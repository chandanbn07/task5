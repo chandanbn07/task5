{
  "nbformat": 4,
  "nbformat_minor": 0,
  "metadata": {
    "colab": {
      "provenance": [],
      "authorship_tag": "ABX9TyP+bkzWSnJyGPVafB9INnuH",
      "include_colab_link": true
    },
    "kernelspec": {
      "name": "python3",
      "display_name": "Python 3"
    },
    "language_info": {
      "name": "python"
    }
  },
  "cells": [
    {
      "cell_type": "markdown",
      "metadata": {
        "id": "view-in-github",
        "colab_type": "text"
      },
      "source": [
        "<a href=\"https://colab.research.google.com/github/chandanbn07/task5/blob/main/task5.ipynb\" target=\"_parent\"><img src=\"https://colab.research.google.com/assets/colab-badge.svg\" alt=\"Open In Colab\"/></a>"
      ]
    },
    {
      "cell_type": "code",
      "execution_count": null,
      "metadata": {
        "id": "sJqhNUrlJePO"
      },
      "outputs": [],
      "source": [
        "import folium\n",
        "import pandas as pd\n",
        "\n",
        "# Sample DataFrame with accident data\n",
        "df = pd.read_csv('accident_data.csv')  # Replace with actual data file\n",
        "\n",
        "# Create a map centered around a general location\n",
        "m = folium.Map(location=[df['latitude'].mean(), df['longitude'].mean()], zoom_start=12)\n",
        "\n",
        "# Add accident points to the map\n",
        "for _, row in df.iterrows():\n",
        "    folium.CircleMarker([row['latitude'], row['longitude']],\n",
        "                        radius=5,\n",
        "                        color='red' if row['severity'] == 'high' else 'blue',\n",
        "                        fill=True).add_to(m)\n",
        "\n",
        "m.save('accident_hotspots.html')\n"
      ]
    },
    {
      "cell_type": "code",
      "source": [
        "import matplotlib.pyplot as plt\n",
        "import seaborn as sns\n",
        "\n",
        "# Group accidents by weather condition and count the frequency\n",
        "weather_data = df.groupby('weather_condition')['accident_count'].sum()\n",
        "\n",
        "# Create bar plot\n",
        "plt.figure(figsize=(10,6))\n",
        "sns.barplot(x=weather_data.index, y=weather_data.values)\n",
        "plt.title('Accidents by Weather Condition')\n",
        "plt.xlabel('Weather Condition')\n",
        "plt.ylabel('Number of Accidents')\n",
        "plt.xticks(rotation=45)\n",
        "plt.show()\n"
      ],
      "metadata": {
        "id": "ryt8NSmaJhk-"
      },
      "execution_count": null,
      "outputs": []
    },
    {
      "cell_type": "code",
      "source": [
        "severity_data = df.groupby(['weather_condition', 'severity']).size().unstack()\n",
        "\n",
        "severity_data.plot(kind='bar', stacked=True, figsize=(10,6))\n",
        "plt.title('Accident Severity by Weather Condition')\n",
        "plt.xlabel('Weather Condition')\n",
        "plt.ylabel('Number of Accidents')\n",
        "plt.show()\n"
      ],
      "metadata": {
        "id": "QdWFSUD6Jkjx"
      },
      "execution_count": null,
      "outputs": []
    },
    {
      "cell_type": "code",
      "source": [
        "severity_data = df.groupby(['weather_condition', 'severity']).size().unstack()\n",
        "\n",
        "severity_data.plot(kind='bar', stacked=True, figsize=(10,6))\n",
        "plt.title('Accident Severity by Weather Condition')\n",
        "plt.xlabel('Weather Condition')\n",
        "plt.ylabel('Number of Accidents')\n",
        "plt.show()\n"
      ],
      "metadata": {
        "id": "E8BJww2QJm7J"
      },
      "execution_count": null,
      "outputs": []
    },
    {
      "cell_type": "code",
      "source": [],
      "metadata": {
        "id": "_ASTXdukJsPw"
      },
      "execution_count": null,
      "outputs": []
    }
  ]
}